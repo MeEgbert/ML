{
 "cells": [
  {
   "cell_type": "code",
   "execution_count": 11,
   "metadata": {},
   "outputs": [
    {
     "name": "stdout",
     "output_type": "stream",
     "text": [
      "[1.96  1.945]\n"
     ]
    }
   ],
   "source": [
    "# -*- coding:utf-8 -*-  \n",
    "import numpy as np\n",
    "#建立20个样本的二维数组\n",
    "data=[[2.5,2.4]      ,[0.5,0.7]      ,[2.2,2.9]      ,[1.9,2.2]      ,[3.1,3.0]\n",
    "      ,[2.3,2.7]      ,[2,1.6]      ,[1,1.1]      ,[1.5,1.6]      ,[1.1,0.9],\n",
    "     [2.7,2.4]      ,[0.4,0.7]      ,[2.4,2.8]      ,[2.3,2.2]      ,[3.1,3.0]\n",
    "      ,[2.4,2.4]      ,[2.2,1.7]      ,[1,1.1]      ,[1.5,1.6]      ,[3.1,1.9]]\n",
    "data=np.array(data).astype(np.float) \n",
    "#1、求平均值（dataAvg）\n",
    "dataAvg=np.average(data,axis=0)\n",
    "print(dataAvg)"
   ]
  },
  {
   "cell_type": "code",
   "execution_count": 12,
   "metadata": {},
   "outputs": [
    {
     "name": "stdout",
     "output_type": "stream",
     "text": [
      "[[ 0.54   0.455]\n",
      " [-1.46  -1.245]\n",
      " [ 0.24   0.955]\n",
      " [-0.06   0.255]\n",
      " [ 1.14   1.055]\n",
      " [ 0.34   0.755]\n",
      " [ 0.04  -0.345]\n",
      " [-0.96  -0.845]\n",
      " [-0.46  -0.345]\n",
      " [-0.86  -1.045]\n",
      " [ 0.74   0.455]\n",
      " [-1.56  -1.245]\n",
      " [ 0.44   0.855]\n",
      " [ 0.34   0.255]\n",
      " [ 1.14   1.055]\n",
      " [ 0.44   0.455]\n",
      " [ 0.24  -0.245]\n",
      " [-0.96  -0.845]\n",
      " [-0.46  -0.345]\n",
      " [ 1.14  -0.045]]\n"
     ]
    }
   ],
   "source": [
    "#2、求每个值与平均值的差（dataAdjust）\n",
    "dataAdjust=data-dataAvg# X-avg(x)  与y-avg(y)的值\n",
    "print(dataAdjust) "
   ]
  },
  {
   "cell_type": "code",
   "execution_count": 13,
   "metadata": {
    "code_folding": []
   },
   "outputs": [
    {
     "name": "stdout",
     "output_type": "stream",
     "text": [
      "协方差矩阵为:\n",
      "[[0.6867368421052632, 0.5576842105263158], [0.5576842105263158, 0.5910263157894736]]\n"
     ]
    }
   ],
   "source": [
    "#3、求协方差矩阵\n",
    "#计算任意两组数据协方差函数,\n",
    "def covariance(getDataAdjust,index1,index2):\n",
    "    x=getDataAdjust[:,index1:index1+1]\n",
    "    y=getDataAdjust[:,index2:index2+1]\n",
    "    n=x.shape[0]\n",
    "    return (x*y).sum()/(n-1)\n",
    " \n",
    "#计算协方差矩阵，\n",
    "\n",
    "CovMatrix=[[covariance(dataAdjust,0,0),covariance(dataAdjust,0,1)]\n",
    "           ,[covariance(dataAdjust,1,0),covariance(dataAdjust,1,1)]]\n",
    "print('协方差矩阵为:')\n",
    "print(CovMatrix)"
   ]
  },
  {
   "cell_type": "code",
   "execution_count": 14,
   "metadata": {},
   "outputs": [
    {
     "name": "stdout",
     "output_type": "stream",
     "text": [
      "------------------------\n",
      "协方差矩阵的特征值:\n",
      "[1.19861527 0.07914789]\n",
      "------------------------\n",
      "协方差矩阵的特征向量:\n",
      "[[ 0.73671449 -0.67620393]\n",
      " [ 0.67620393  0.73671449]]\n"
     ]
    }
   ],
   "source": [
    "#4、求协方差矩阵的特征值与特征向量，如果不知道什么是特征值与特征向量，可以查查线性代数\n",
    "e1,e2 = np.linalg.eig(CovMatrix)\n",
    "print('------------------------')\n",
    "print('协方差矩阵的特征值:')\n",
    "print(e1) #[0.0490834  1.28402771] ，这里的两个值，当要降到M维（本例只能降到1维），即取最大的值，这里是1.28402771\n",
    "print('------------------------')\n",
    "print('协方差矩阵的特征向量:')\n",
    "print(e2)"
   ]
  },
  {
   "cell_type": "code",
   "execution_count": 15,
   "metadata": {},
   "outputs": [
    {
     "name": "stdout",
     "output_type": "stream",
     "text": [
      "------------------------\n",
      "降维后的数据:\n",
      "[[-0.02994503]\n",
      " [ 0.0700482 ]\n",
      " [ 0.5412734 ]\n",
      " [ 0.22843443]\n",
      " [ 0.00636131]\n",
      " [ 0.3263101 ]\n",
      " [-0.28121466]\n",
      " [ 0.02663203]\n",
      " [ 0.05688731]\n",
      " [-0.18833126]\n",
      " [-0.16518582]\n",
      " [ 0.13766859]\n",
      " [ 0.33236116]\n",
      " [-0.04204714]\n",
      " [ 0.00636131]\n",
      " [ 0.03767536]\n",
      " [-0.34278399]\n",
      " [ 0.02663203]\n",
      " [ 0.05688731]\n",
      " [-0.80402463]]\n"
     ]
    }
   ],
   "source": [
    "#5、将特征值从大到小排序，选择最大的M个，取的这M个特征向量。这里只是取数，没有计算步骤\n",
    "#[[-0.73517866 -0.6778734 ]     因数为上述特征值最大的取1.28402771，为第2个，所以，这里我们取每个元素数组的第2个，即e2[:,1:]\n",
    "# [ 0.6778734  -0.73517866]]\n",
    "#取出的值应该是[-0.6778734, -0.73517866]\n",
    " \n",
    "#做矩阵乘法，将dataAdjust 乘以上述 e2[:,1:] 得出的结果即为降维后的值\n",
    "finalDataX=np.matmul(dataAdjust,e2[:,1:])\n",
    "print('------------------------')\n",
    "print('降维后的数据:')\n",
    "print(finalDataX)"
   ]
  },
  {
   "cell_type": "code",
   "execution_count": null,
   "metadata": {},
   "outputs": [],
   "source": []
  }
 ],
 "metadata": {
  "kernelspec": {
   "display_name": "Python 3",
   "language": "python",
   "name": "python3"
  },
  "language_info": {
   "codemirror_mode": {
    "name": "ipython",
    "version": 3
   },
   "file_extension": ".py",
   "mimetype": "text/x-python",
   "name": "python",
   "nbconvert_exporter": "python",
   "pygments_lexer": "ipython3",
   "version": "3.7.1"
  },
  "latex_envs": {
   "LaTeX_envs_menu_present": true,
   "autoclose": false,
   "autocomplete": true,
   "bibliofile": "biblio.bib",
   "cite_by": "apalike",
   "current_citInitial": 1,
   "eqLabelWithNumbers": true,
   "eqNumInitial": 1,
   "hotkeys": {
    "equation": "Ctrl-E",
    "itemize": "Ctrl-I"
   },
   "labels_anchors": false,
   "latex_user_defs": false,
   "report_style_numbering": false,
   "user_envs_cfg": false
  }
 },
 "nbformat": 4,
 "nbformat_minor": 2
}
